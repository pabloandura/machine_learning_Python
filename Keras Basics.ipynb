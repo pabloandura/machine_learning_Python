{
 "cells": [
  {
   "cell_type": "code",
   "execution_count": 1,
   "id": "b2211cef-869b-4ea9-9a1e-e73008211981",
   "metadata": {},
   "outputs": [],
   "source": [
    "import numpy as np\n",
    "from numpy import genfromtxt"
   ]
  },
  {
   "cell_type": "code",
   "execution_count": 2,
   "id": "8a8175d3-e7b1-4e40-b908-96d14a370e50",
   "metadata": {},
   "outputs": [],
   "source": [
    "data = genfromtxt('Computer-Vision-with-Python/DATA/bank_note_data.txt',delimiter=',')"
   ]
  },
  {
   "cell_type": "code",
   "execution_count": 3,
   "id": "300abc46-e67a-49d0-90c9-b5b0030c9b11",
   "metadata": {},
   "outputs": [
    {
     "data": {
      "text/plain": [
       "array([[  3.6216 ,   8.6661 ,  -2.8073 ,  -0.44699,   0.     ],\n",
       "       [  4.5459 ,   8.1674 ,  -2.4586 ,  -1.4621 ,   0.     ],\n",
       "       [  3.866  ,  -2.6383 ,   1.9242 ,   0.10645,   0.     ],\n",
       "       ...,\n",
       "       [ -3.7503 , -13.4586 ,  17.5932 ,  -2.7771 ,   1.     ],\n",
       "       [ -3.5637 ,  -8.3827 ,  12.393  ,  -1.2823 ,   1.     ],\n",
       "       [ -2.5419 ,  -0.65804,   2.6842 ,   1.1952 ,   1.     ]])"
      ]
     },
     "execution_count": 3,
     "metadata": {},
     "output_type": "execute_result"
    }
   ],
   "source": [
    "# last column has binary values 0 - FORGERY | 1 - AUTHENTIC \n",
    "data\n"
   ]
  },
  {
   "cell_type": "code",
   "execution_count": 4,
   "id": "bce6a797-7729-405c-8bdc-0ac03ce73cc5",
   "metadata": {},
   "outputs": [],
   "source": [
    "# lets this last \"class\" column\n",
    "labels = data[:,4]"
   ]
  },
  {
   "cell_type": "code",
   "execution_count": 5,
   "id": "85f0ebd0-979f-4bb9-afa2-a6502d22f8b6",
   "metadata": {},
   "outputs": [
    {
     "data": {
      "text/plain": [
       "array([0., 0., 0., ..., 1., 1., 1.])"
      ]
     },
     "execution_count": 5,
     "metadata": {},
     "output_type": "execute_result"
    }
   ],
   "source": [
    "y = labels\n",
    "labels"
   ]
  },
  {
   "cell_type": "code",
   "execution_count": 6,
   "id": "e86606e0-25a5-4802-a1b2-d917fd1905e8",
   "metadata": {},
   "outputs": [],
   "source": [
    "# and we can also fetch the variables or features\n",
    "features = data[:,0:4]"
   ]
  },
  {
   "cell_type": "code",
   "execution_count": 7,
   "id": "ce5449a1-129a-4224-b847-8f979e54e681",
   "metadata": {},
   "outputs": [
    {
     "data": {
      "text/plain": [
       "array([[  3.6216 ,   8.6661 ,  -2.8073 ,  -0.44699],\n",
       "       [  4.5459 ,   8.1674 ,  -2.4586 ,  -1.4621 ],\n",
       "       [  3.866  ,  -2.6383 ,   1.9242 ,   0.10645],\n",
       "       ...,\n",
       "       [ -3.7503 , -13.4586 ,  17.5932 ,  -2.7771 ],\n",
       "       [ -3.5637 ,  -8.3827 ,  12.393  ,  -1.2823 ],\n",
       "       [ -2.5419 ,  -0.65804,   2.6842 ,   1.1952 ]])"
      ]
     },
     "execution_count": 7,
     "metadata": {},
     "output_type": "execute_result"
    }
   ],
   "source": [
    "X = features\n",
    "features"
   ]
  },
  {
   "cell_type": "code",
   "execution_count": 8,
   "id": "f6556808-d70d-4ef5-992d-fe7efc490d33",
   "metadata": {},
   "outputs": [],
   "source": [
    "from sklearn.model_selection import train_test_split\n",
    "# with this function we can separate our train and test groups of data"
   ]
  },
  {
   "cell_type": "code",
   "execution_count": 9,
   "id": "46d28149-1a3e-4878-8e56-b7d66e340bb4",
   "metadata": {},
   "outputs": [
    {
     "data": {
      "text/plain": [
       "919"
      ]
     },
     "execution_count": 9,
     "metadata": {},
     "output_type": "execute_result"
    }
   ],
   "source": [
    "X_train, X_test, y_train, y_test = train_test_split(X,y,test_size=0.33, random_state=42)\n",
    "# lets take a look at the len(X_train)\n",
    "len(X_train)"
   ]
  },
  {
   "cell_type": "code",
   "execution_count": 10,
   "id": "3d6d866b-cfc6-4114-a8ff-d3c6ccfb03b1",
   "metadata": {},
   "outputs": [
    {
     "data": {
      "text/plain": [
       "453"
      ]
     },
     "execution_count": 10,
     "metadata": {},
     "output_type": "execute_result"
    }
   ],
   "source": [
    "# and the len(X_test)\n",
    "len(X_test)"
   ]
  },
  {
   "cell_type": "code",
   "execution_count": 11,
   "id": "60da91dc-a663-4cad-8894-6fd7f8e2e940",
   "metadata": {},
   "outputs": [],
   "source": [
    "from sklearn.preprocessing import MinMaxScaler\n",
    "# we will use this function to normalize the value at a certain range. If we have features of different scales of magnitude it will be convenient for a machine learning algorithm to have their features normalized"
   ]
  },
  {
   "cell_type": "code",
   "execution_count": 12,
   "id": "ebe1a4a6-39a5-46a7-9d87-e15b32184abb",
   "metadata": {},
   "outputs": [
    {
     "data": {
      "text/plain": [
       "MinMaxScaler()"
      ]
     },
     "execution_count": 12,
     "metadata": {},
     "output_type": "execute_result"
    }
   ],
   "source": [
    "# we create a scaler object\n",
    "scaler_object = MinMaxScaler()\n",
    "# fit it to our training data\n",
    "scaler_object.fit(X_train)\n"
   ]
  },
  {
   "cell_type": "code",
   "execution_count": 13,
   "id": "605cb835-6eef-4a07-ae49-5b7e0a5dbdcb",
   "metadata": {},
   "outputs": [],
   "source": [
    "# we save the scaled version\n",
    "scaled_X_train = scaler_object.transform(X_train)"
   ]
  },
  {
   "cell_type": "code",
   "execution_count": 14,
   "id": "f32016a4-6329-4f74-8bdb-7afd67f97902",
   "metadata": {},
   "outputs": [],
   "source": [
    "# we apply it also with the test data\n",
    "scaled_X_test = scaler_object.transform(X_test)\n"
   ]
  },
  {
   "cell_type": "code",
   "execution_count": 15,
   "id": "e2b7726c-0fff-4f02-814a-37b4a31a186e",
   "metadata": {},
   "outputs": [],
   "source": [
    "# lets import keras now that our data has been cleaned\n",
    "from keras.models import Sequential\n",
    "from keras.layers import Dense"
   ]
  },
  {
   "cell_type": "code",
   "execution_count": 16,
   "id": "3794a6c1-c739-444d-846f-132709caf79e",
   "metadata": {},
   "outputs": [],
   "source": [
    "# initialize the neural network\n",
    "model = Sequential()\n",
    "# And we add our layer of neurons or 'perceptrons'\n",
    "model.add(Dense(4,input_dim=4, activation = 'relu'))\n",
    "# Another layer in the middle\n",
    "model.add(Dense(8,activation = 'relu'))\n",
    "# The last layer with sigmoid activation | the sigmoid function will ensure the output is from 0 to 1\n",
    "model.add(Dense(1,activation = 'sigmoid'))"
   ]
  },
  {
   "cell_type": "code",
   "execution_count": 17,
   "id": "8335cac6-8c72-4c64-a2de-f916f8cdaea1",
   "metadata": {},
   "outputs": [],
   "source": [
    "# now to compile the model\n",
    "\n",
    "model.compile(loss='binary_crossentropy',optimizer='adam',metrics=['accuracy'])"
   ]
  },
  {
   "cell_type": "code",
   "execution_count": 18,
   "id": "9aaaa51e-c45a-4024-b798-f7c9cb64b911",
   "metadata": {},
   "outputs": [
    {
     "name": "stdout",
     "output_type": "stream",
     "text": [
      "Epoch 1/50\n",
      "29/29 - 1s - loss: 0.7226 - accuracy: 0.4505 - 738ms/epoch - 25ms/step\n",
      "Epoch 2/50\n",
      "29/29 - 0s - loss: 0.7070 - accuracy: 0.4505 - 53ms/epoch - 2ms/step\n",
      "Epoch 3/50\n",
      "29/29 - 0s - loss: 0.6949 - accuracy: 0.4026 - 53ms/epoch - 2ms/step\n",
      "Epoch 4/50\n",
      "29/29 - 0s - loss: 0.6829 - accuracy: 0.4875 - 49ms/epoch - 2ms/step\n",
      "Epoch 5/50\n",
      "29/29 - 0s - loss: 0.6715 - accuracy: 0.6692 - 53ms/epoch - 2ms/step\n",
      "Epoch 6/50\n",
      "29/29 - 0s - loss: 0.6610 - accuracy: 0.7095 - 56ms/epoch - 2ms/step\n",
      "Epoch 7/50\n",
      "29/29 - 0s - loss: 0.6528 - accuracy: 0.7345 - 77ms/epoch - 3ms/step\n",
      "Epoch 8/50\n",
      "29/29 - 0s - loss: 0.6445 - accuracy: 0.7399 - 61ms/epoch - 2ms/step\n",
      "Epoch 9/50\n",
      "29/29 - 0s - loss: 0.6355 - accuracy: 0.7399 - 54ms/epoch - 2ms/step\n",
      "Epoch 10/50\n",
      "29/29 - 0s - loss: 0.6263 - accuracy: 0.7606 - 53ms/epoch - 2ms/step\n",
      "Epoch 11/50\n",
      "29/29 - 0s - loss: 0.6167 - accuracy: 0.7639 - 58ms/epoch - 2ms/step\n",
      "Epoch 12/50\n",
      "29/29 - 0s - loss: 0.6070 - accuracy: 0.7671 - 72ms/epoch - 2ms/step\n",
      "Epoch 13/50\n",
      "29/29 - 0s - loss: 0.5970 - accuracy: 0.7726 - 53ms/epoch - 2ms/step\n",
      "Epoch 14/50\n",
      "29/29 - 0s - loss: 0.5867 - accuracy: 0.7878 - 45ms/epoch - 2ms/step\n",
      "Epoch 15/50\n",
      "29/29 - 0s - loss: 0.5760 - accuracy: 0.7802 - 57ms/epoch - 2ms/step\n",
      "Epoch 16/50\n",
      "29/29 - 0s - loss: 0.5655 - accuracy: 0.7976 - 57ms/epoch - 2ms/step\n",
      "Epoch 17/50\n",
      "29/29 - 0s - loss: 0.5548 - accuracy: 0.8074 - 83ms/epoch - 3ms/step\n",
      "Epoch 18/50\n",
      "29/29 - 0s - loss: 0.5442 - accuracy: 0.8150 - 83ms/epoch - 3ms/step\n",
      "Epoch 19/50\n",
      "29/29 - 0s - loss: 0.5343 - accuracy: 0.8128 - 73ms/epoch - 3ms/step\n",
      "Epoch 20/50\n",
      "29/29 - 0s - loss: 0.5226 - accuracy: 0.8270 - 75ms/epoch - 3ms/step\n",
      "Epoch 21/50\n",
      "29/29 - 0s - loss: 0.5116 - accuracy: 0.8335 - 59ms/epoch - 2ms/step\n",
      "Epoch 22/50\n",
      "29/29 - 0s - loss: 0.5007 - accuracy: 0.8346 - 70ms/epoch - 2ms/step\n",
      "Epoch 23/50\n",
      "29/29 - 0s - loss: 0.4902 - accuracy: 0.8400 - 54ms/epoch - 2ms/step\n",
      "Epoch 24/50\n",
      "29/29 - 0s - loss: 0.4792 - accuracy: 0.8564 - 54ms/epoch - 2ms/step\n",
      "Epoch 25/50\n",
      "29/29 - 0s - loss: 0.4685 - accuracy: 0.8596 - 58ms/epoch - 2ms/step\n",
      "Epoch 26/50\n",
      "29/29 - 0s - loss: 0.4578 - accuracy: 0.8705 - 67ms/epoch - 2ms/step\n",
      "Epoch 27/50\n",
      "29/29 - 0s - loss: 0.4476 - accuracy: 0.8716 - 53ms/epoch - 2ms/step\n",
      "Epoch 28/50\n",
      "29/29 - 0s - loss: 0.4370 - accuracy: 0.8912 - 51ms/epoch - 2ms/step\n",
      "Epoch 29/50\n",
      "29/29 - 0s - loss: 0.4270 - accuracy: 0.8912 - 54ms/epoch - 2ms/step\n",
      "Epoch 30/50\n",
      "29/29 - 0s - loss: 0.4172 - accuracy: 0.8945 - 68ms/epoch - 2ms/step\n",
      "Epoch 31/50\n",
      "29/29 - 0s - loss: 0.4073 - accuracy: 0.9010 - 70ms/epoch - 2ms/step\n",
      "Epoch 32/50\n",
      "29/29 - 0s - loss: 0.3975 - accuracy: 0.9042 - 60ms/epoch - 2ms/step\n",
      "Epoch 33/50\n",
      "29/29 - 0s - loss: 0.3883 - accuracy: 0.9021 - 52ms/epoch - 2ms/step\n",
      "Epoch 34/50\n",
      "29/29 - 0s - loss: 0.3790 - accuracy: 0.9097 - 52ms/epoch - 2ms/step\n",
      "Epoch 35/50\n",
      "29/29 - 0s - loss: 0.3700 - accuracy: 0.9097 - 74ms/epoch - 3ms/step\n",
      "Epoch 36/50\n",
      "29/29 - 0s - loss: 0.3610 - accuracy: 0.9119 - 43ms/epoch - 1ms/step\n",
      "Epoch 37/50\n",
      "29/29 - 0s - loss: 0.3524 - accuracy: 0.9140 - 48ms/epoch - 2ms/step\n",
      "Epoch 38/50\n",
      "29/29 - 0s - loss: 0.3439 - accuracy: 0.9173 - 47ms/epoch - 2ms/step\n",
      "Epoch 39/50\n",
      "29/29 - 0s - loss: 0.3360 - accuracy: 0.9173 - 47ms/epoch - 2ms/step\n",
      "Epoch 40/50\n",
      "29/29 - 0s - loss: 0.3281 - accuracy: 0.9249 - 48ms/epoch - 2ms/step\n",
      "Epoch 41/50\n",
      "29/29 - 0s - loss: 0.3196 - accuracy: 0.9227 - 48ms/epoch - 2ms/step\n",
      "Epoch 42/50\n",
      "29/29 - 0s - loss: 0.3126 - accuracy: 0.9206 - 49ms/epoch - 2ms/step\n",
      "Epoch 43/50\n",
      "29/29 - 0s - loss: 0.3051 - accuracy: 0.9260 - 47ms/epoch - 2ms/step\n",
      "Epoch 44/50\n",
      "29/29 - 0s - loss: 0.2971 - accuracy: 0.9314 - 50ms/epoch - 2ms/step\n",
      "Epoch 45/50\n",
      "29/29 - 0s - loss: 0.2908 - accuracy: 0.9336 - 54ms/epoch - 2ms/step\n",
      "Epoch 46/50\n",
      "29/29 - 0s - loss: 0.2842 - accuracy: 0.9380 - 71ms/epoch - 2ms/step\n",
      "Epoch 47/50\n",
      "29/29 - 0s - loss: 0.2765 - accuracy: 0.9380 - 66ms/epoch - 2ms/step\n",
      "Epoch 48/50\n",
      "29/29 - 0s - loss: 0.2708 - accuracy: 0.9423 - 58ms/epoch - 2ms/step\n",
      "Epoch 49/50\n",
      "29/29 - 0s - loss: 0.2647 - accuracy: 0.9423 - 56ms/epoch - 2ms/step\n",
      "Epoch 50/50\n",
      "29/29 - 0s - loss: 0.2589 - accuracy: 0.9412 - 58ms/epoch - 2ms/step\n"
     ]
    },
    {
     "data": {
      "text/plain": [
       "<keras.callbacks.History at 0x14fac2a0610>"
      ]
     },
     "execution_count": 18,
     "metadata": {},
     "output_type": "execute_result"
    }
   ],
   "source": [
    "# now we fit (Train) the modol\n",
    "model.fit(scaled_X_train,y_train,epochs=50,verbose=2)\n"
   ]
  },
  {
   "cell_type": "code",
   "execution_count": 19,
   "id": "667d0010-c83e-4480-a1ea-5761c8763fba",
   "metadata": {},
   "outputs": [
    {
     "data": {
      "text/plain": [
       "['loss', 'accuracy']"
      ]
     },
     "execution_count": 19,
     "metadata": {},
     "output_type": "execute_result"
    }
   ],
   "source": [
    "# lets test it\n",
    "model.metrics_names"
   ]
  },
  {
   "cell_type": "code",
   "execution_count": 20,
   "id": "5a0e8580-8b67-4ca2-a972-e7d4920f9246",
   "metadata": {},
   "outputs": [],
   "source": [
    "# lets get our visualization tools \n",
    "from sklearn.metrics import confusion_matrix,classification_report"
   ]
  },
  {
   "cell_type": "code",
   "execution_count": 24,
   "id": "4b1797d6-e45a-46e3-9531-6fff3351dedf",
   "metadata": {},
   "outputs": [
    {
     "data": {
      "text/plain": [
       "array([[244,  13],\n",
       "       [ 10, 186]], dtype=int64)"
      ]
     },
     "execution_count": 24,
     "metadata": {},
     "output_type": "execute_result"
    }
   ],
   "source": [
    "predictions = (model.predict(scaled_X_test) > 0.5).astype(\"int32\")\n",
    "# the right answer was the y_test\n",
    "confusion_matrix(y_test, predictions)"
   ]
  },
  {
   "cell_type": "code",
   "execution_count": 25,
   "id": "10c1f30b-df03-46fd-8300-185208d5a881",
   "metadata": {},
   "outputs": [
    {
     "name": "stdout",
     "output_type": "stream",
     "text": [
      "              precision    recall  f1-score   support\n",
      "\n",
      "         0.0       0.96      0.95      0.95       257\n",
      "         1.0       0.93      0.95      0.94       196\n",
      "\n",
      "    accuracy                           0.95       453\n",
      "   macro avg       0.95      0.95      0.95       453\n",
      "weighted avg       0.95      0.95      0.95       453\n",
      "\n"
     ]
    }
   ],
   "source": [
    "# what about precision \n",
    "print(classification_report(y_test,predictions))"
   ]
  },
  {
   "cell_type": "code",
   "execution_count": 26,
   "id": "99184880-4710-4bdc-9f40-a9f9f1b9773d",
   "metadata": {},
   "outputs": [],
   "source": [
    "model.save('mysupermodel.h5')"
   ]
  },
  {
   "cell_type": "code",
   "execution_count": 28,
   "id": "1c1ea948-1409-4fbe-9db9-4e267bccfd7b",
   "metadata": {},
   "outputs": [],
   "source": [
    "from keras.models import load_model\n",
    "newmodel = load_model('mysupermodel.h5')"
   ]
  },
  {
   "cell_type": "code",
   "execution_count": 31,
   "id": "fcb6f09d-4857-421b-af11-2067ad43a21b",
   "metadata": {},
   "outputs": [
    {
     "data": {
      "text/plain": [
       "keras.engine.sequential.Sequential"
      ]
     },
     "execution_count": 31,
     "metadata": {},
     "output_type": "execute_result"
    }
   ],
   "source": [
    "type(newmodel)"
   ]
  },
  {
   "cell_type": "code",
   "execution_count": null,
   "id": "40a5ea5d-1a97-437e-97af-194313dd908c",
   "metadata": {},
   "outputs": [],
   "source": []
  }
 ],
 "metadata": {
  "kernelspec": {
   "display_name": "Python 3",
   "language": "python",
   "name": "python3"
  },
  "language_info": {
   "codemirror_mode": {
    "name": "ipython",
    "version": 3
   },
   "file_extension": ".py",
   "mimetype": "text/x-python",
   "name": "python",
   "nbconvert_exporter": "python",
   "pygments_lexer": "ipython3",
   "version": "3.8.8"
  }
 },
 "nbformat": 4,
 "nbformat_minor": 5
}
