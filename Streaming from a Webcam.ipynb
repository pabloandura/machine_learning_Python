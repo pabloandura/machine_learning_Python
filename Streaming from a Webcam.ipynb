{
 "cells": [
  {
   "cell_type": "code",
   "execution_count": 3,
   "id": "66016c20-5102-4253-869d-cc716059e603",
   "metadata": {},
   "outputs": [],
   "source": [
    "import cv2\n",
    "\n",
    "#initialize the camera\n",
    "cap = cv2.VideoCapture(0)\n",
    "\n",
    "# get size of camera\n",
    "width = int(cap.get(cv2.CAP_PROP_FRAME_WIDTH))\n",
    "height = int(cap.get(cv2.CAP_PROP_FRAME_HEIGHT))\n",
    "\n",
    "# store the video\n",
    "writer = cv2.VideoWriter('mysupervideo.mp4',cv2.VideoWriter_fourcc(*'DIVX'),20,(width,height))\n",
    "\n",
    "# run camera loop\n",
    "while True:\n",
    "    # cap.read() returns a tuple with frame by frame picture information\n",
    "    ret, frame = cap.read()\n",
    "    # write frame to mp4 storage file\n",
    "    writer.write(frame)\n",
    "    \n",
    "    #gray = cv2.cvtColor(frame,cv2.COLOR_BGR2GRAY)\n",
    "    \n",
    "    # show the video\n",
    "    cv2.imshow('frame',frame)\n",
    "\n",
    "    # exit key\n",
    "    if cv2.waitKey(1) & 0xFF == ord('q'):\n",
    "        break\n",
    "\n",
    "# close video\n",
    "cap.release()\n",
    "# close writer\n",
    "writer.release()\n",
    "# kill windows\n",
    "cv2.destroyAllWindows()"
   ]
  },
  {
   "cell_type": "code",
   "execution_count": null,
   "id": "d1d8344e-717d-4565-b405-2dd9fdf1c9bb",
   "metadata": {},
   "outputs": [],
   "source": []
  }
 ],
 "metadata": {
  "kernelspec": {
   "display_name": "Python 3",
   "language": "python",
   "name": "python3"
  },
  "language_info": {
   "codemirror_mode": {
    "name": "ipython",
    "version": 3
   },
   "file_extension": ".py",
   "mimetype": "text/x-python",
   "name": "python",
   "nbconvert_exporter": "python",
   "pygments_lexer": "ipython3",
   "version": "3.8.8"
  }
 },
 "nbformat": 4,
 "nbformat_minor": 5
}
