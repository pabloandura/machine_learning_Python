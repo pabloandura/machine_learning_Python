{
 "cells": [
  {
   "cell_type": "markdown",
   "id": "9932bf05-300b-4c78-a7b1-53f0f8120853",
   "metadata": {},
   "source": [
    "# Custom seeds with Watershed Algorithm"
   ]
  },
  {
   "cell_type": "code",
   "execution_count": 2,
   "id": "e8c9032f-aac8-4195-92d0-c242dc452c93",
   "metadata": {},
   "outputs": [],
   "source": [
    "import cv2\n",
    "import numpy as np\n",
    "import matplotlib.pyplot as plt\n",
    "%matplotlib inline"
   ]
  },
  {
   "cell_type": "code",
   "execution_count": 3,
   "id": "32dbcf0c-d958-4411-9428-cbc972845093",
   "metadata": {},
   "outputs": [],
   "source": [
    "road = cv2.imread('Computer-Vision-with-Python/DATA/road_image.jpg')\n",
    "# lets make a copy of our image\n",
    "road_copy = np.copy(road)"
   ]
  },
  {
   "cell_type": "code",
   "execution_count": 4,
   "id": "69797c5f-e78e-40e6-bb17-2edd71f1d503",
   "metadata": {},
   "outputs": [
    {
     "data": {
      "text/plain": [
       "(600, 800)"
      ]
     },
     "execution_count": 4,
     "metadata": {},
     "output_type": "execute_result"
    }
   ],
   "source": [
    "# I want to create an empty space with the same shape as the picture\n",
    "road.shape[:2]"
   ]
  },
  {
   "cell_type": "code",
   "execution_count": 5,
   "id": "f5e340e8-5a6f-4732-b0fb-57b9f2bbaa12",
   "metadata": {},
   "outputs": [],
   "source": [
    "# Image of zeros of same shape\n",
    "marker_image = np.zeros(road.shape[:2],dtype=np.int32)"
   ]
  },
  {
   "cell_type": "code",
   "execution_count": 6,
   "id": "8189c575-3d93-4343-a5fe-2dde363f3e6c",
   "metadata": {},
   "outputs": [],
   "source": [
    "# One more for the segments\n",
    "segments = np.zeros(road.shape,dtype=np.uint8)"
   ]
  },
  {
   "cell_type": "code",
   "execution_count": 12,
   "id": "6727dc9a-e37e-4a8c-b517-85e167c80171",
   "metadata": {},
   "outputs": [],
   "source": [
    "# Creating colors for the mapping\n",
    "from matplotlib import cm\n",
    "# define a function for color assignment\n",
    "def create_rgb(i):\n",
    "    return tuple(np.array(cm.tab10(i)[:3])*255)"
   ]
  },
  {
   "cell_type": "code",
   "execution_count": 13,
   "id": "0e53f1e9-0f80-4bc5-9c66-a678f379878c",
   "metadata": {},
   "outputs": [],
   "source": [
    "colors = []\n",
    "for i in range(10):\n",
    "    colors.append(create_rgb(i))"
   ]
  },
  {
   "cell_type": "code",
   "execution_count": 14,
   "id": "b1f0f96b-5e39-47bd-bdb1-3c1d602e6def",
   "metadata": {},
   "outputs": [],
   "source": [
    "### GLOBAL VARIABLES ###\n",
    "# Color choice\n",
    "n_markers = 10\n",
    "current_marker = 1\n",
    "# Markers update\n",
    "marks_updated = False"
   ]
  },
  {
   "cell_type": "code",
   "execution_count": 15,
   "id": "4ac235ad-f4e3-45e7-b0e8-a59bf5fb5c32",
   "metadata": {},
   "outputs": [],
   "source": [
    "#Callback functions\n",
    "def mouse_callback(event,x,y,flags,params):\n",
    "    global marks_updated\n",
    "    if event == cv2.EVENT_LBUTTONDOWN:\n",
    "        # Marker for the watershed algorithm\n",
    "        cv2.circle(marker_image,(x,y),10,(current_marker),-1)\n",
    "        # User sees on the road image\n",
    "        cv2.circle(road_copy,(x,y),10,colors[current_marker],-1)\n",
    "        # Marks have been updated\n",
    "        marks_updated = True\n"
   ]
  },
  {
   "cell_type": "code",
   "execution_count": 16,
   "id": "311ccbf9-e601-47e3-91be-0be5d28f0af5",
   "metadata": {},
   "outputs": [],
   "source": [
    "# While loop\n",
    "cv2.namedWindow('Road Image')\n",
    "cv2.setMouseCallback('Road Image',mouse_callback)\n",
    "\n",
    "while True:\n",
    "    # Show the window of segments\n",
    "    cv2.imshow('Watershed Segments',segments)\n",
    "    # road image\n",
    "    cv2.imshow('Road Image',road_copy)\n",
    "    \n",
    "    # close all windows\n",
    "    k = cv2.waitKey(1)\n",
    "    if k == 27:\n",
    "        break\n",
    "    \n",
    "    # clearing all the colors\n",
    "    elif k == ord('c'):\n",
    "        # resets images\n",
    "        road_copy = road.copy()\n",
    "        marker_image = np.zeros(road.shape,dtype=np.uint8)\n",
    "    \n",
    "    # update color choice\n",
    "    # since when we press a key on the keyboard it sends an ascii code which will have nothing to do with the number being pressed\n",
    "    # and we convert it to its rightful character with chr() and we verify if it is a digit with the method next to it.\n",
    "    elif k > 0 and chr(k).isdigit():\n",
    "        current_marker = int(chr(k))\n",
    "    \n",
    "    # update the markings\n",
    "    if marks_updated:\n",
    "        # make a copy because the marker image is still manipulated by the window and we can send it to the watershed algorithm\n",
    "        marker_image_copy = marker_image.copy()\n",
    "        # initialize the watershed algorithm from the road image to the copy of the marker\n",
    "        cv2.watershed(road,marker_image_copy)\n",
    "        \n",
    "        segments = np.zeros(road.shape,dtype=np.uint8)\n",
    "        \n",
    "        for color_ind in range(n_markers):\n",
    "            # COLORING THE SEGMENTS, NUMPY CALL\n",
    "            segments[marker_image_copy == (color_ind)] = colors[color_ind]\n",
    "            \n",
    "cv2.destroyAllWindows()"
   ]
  },
  {
   "cell_type": "code",
   "execution_count": null,
   "id": "dcbf404d-5b31-4ae7-a717-f73077ffe220",
   "metadata": {},
   "outputs": [],
   "source": []
  },
  {
   "cell_type": "code",
   "execution_count": null,
   "id": "df939aea-a340-4c69-a6de-3e961e6a479f",
   "metadata": {},
   "outputs": [],
   "source": []
  },
  {
   "cell_type": "code",
   "execution_count": null,
   "id": "4b62a86c-8c50-435d-bc54-a4127afd6441",
   "metadata": {},
   "outputs": [],
   "source": []
  }
 ],
 "metadata": {
  "kernelspec": {
   "display_name": "Python 3",
   "language": "python",
   "name": "python3"
  },
  "language_info": {
   "codemirror_mode": {
    "name": "ipython",
    "version": 3
   },
   "file_extension": ".py",
   "mimetype": "text/x-python",
   "name": "python",
   "nbconvert_exporter": "python",
   "pygments_lexer": "ipython3",
   "version": "3.8.8"
  }
 },
 "nbformat": 4,
 "nbformat_minor": 5
}
