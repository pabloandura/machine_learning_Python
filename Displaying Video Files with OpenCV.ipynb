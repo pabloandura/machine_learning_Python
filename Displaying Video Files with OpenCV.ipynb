{
 "cells": [
  {
   "cell_type": "code",
   "execution_count": 13,
   "id": "bc17ab50-d508-460e-912c-cdd812ac8818",
   "metadata": {},
   "outputs": [],
   "source": [
    "import cv2\n",
    "import time\n",
    "\n",
    "# initialize our video\n",
    "cap = cv2.VideoCapture('mysupervideo.mp4')\n",
    "\n",
    "# verify if we have a correct setting\n",
    "if cap.isOpened() == False:\n",
    "    print('ERROR - FILE NOT FOUND OR WRONG CODEC USED!')\n",
    "\n",
    "# displaying video loop\n",
    "while cap.isOpened():\n",
    "\n",
    "    # grab frames\n",
    "    ret,frame = cap.read()\n",
    "    \n",
    "    # if frames are returned show them\n",
    "    if ret == True:\n",
    "    \n",
    "        # writer 20 fps\n",
    "        time.sleep(1/20)\n",
    "        cv2.imshow('frame',frame)\n",
    "    \n",
    "    # exit with \"q\" after waiting 10 ms\n",
    "        if cv2.waitKey(10) & 0xFF == ord('q'):\n",
    "            break\n",
    "    else: \n",
    "        break\n",
    "        \n",
    "        \n",
    "cap.release()\n",
    "cv2.destroyAllWindows()"
   ]
  },
  {
   "cell_type": "code",
   "execution_count": null,
   "id": "a0ac5669-6a89-4727-b48a-f6e7b6456091",
   "metadata": {},
   "outputs": [],
   "source": []
  },
  {
   "cell_type": "code",
   "execution_count": null,
   "id": "46985179-7f44-4aa8-adfb-9cadc6db5e16",
   "metadata": {},
   "outputs": [],
   "source": []
  }
 ],
 "metadata": {
  "kernelspec": {
   "display_name": "Python 3",
   "language": "python",
   "name": "python3"
  },
  "language_info": {
   "codemirror_mode": {
    "name": "ipython",
    "version": 3
   },
   "file_extension": ".py",
   "mimetype": "text/x-python",
   "name": "python",
   "nbconvert_exporter": "python",
   "pygments_lexer": "ipython3",
   "version": "3.8.8"
  }
 },
 "nbformat": 4,
 "nbformat_minor": 5
}
